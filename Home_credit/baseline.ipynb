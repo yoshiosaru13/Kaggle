{
 "cells": [
  {
   "cell_type": "code",
   "execution_count": null,
   "id": "f35ecf59",
   "metadata": {
    "execution": {
     "iopub.execute_input": "2024-04-03T11:42:49.132427Z",
     "iopub.status.busy": "2024-04-03T11:42:49.131656Z",
     "iopub.status.idle": "2024-04-03T11:42:55.406006Z",
     "shell.execute_reply": "2024-04-03T11:42:55.404967Z"
    },
    "papermill": {
     "duration": 6.285522,
     "end_time": "2024-04-03T11:42:55.408327",
     "exception": false,
     "start_time": "2024-04-03T11:42:49.122805",
     "status": "completed"
    },
    "tags": []
   },
   "outputs": [],
   "source": [
    "import os\n",
    "import gc\n",
    "from glob import glob\n",
    "from pathlib import Path\n",
    "from datetime import datetime\n",
    "\n",
    "import numpy as np\n",
    "import pandas as pd\n",
    "import polars as pl\n",
    "\n",
    "import matplotlib.pyplot as plt\n",
    "import seaborn as sns\n",
    "\n",
    "from sklearn.model_selection import StratifiedGroupKFold\n",
    "from sklearn.base import BaseEstimator, ClassifierMixin\n",
    "\n",
    "import lightgbm as lgb\n",
    "\n",
    "import warnings\n",
    "warnings.simplefilter(action='ignore', category=FutureWarning)"
   ]
  },
  {
   "cell_type": "code",
   "execution_count": 2,
   "id": "25f12c4d",
   "metadata": {
    "execution": {
     "iopub.execute_input": "2024-04-03T11:42:55.423614Z",
     "iopub.status.busy": "2024-04-03T11:42:55.423265Z",
     "iopub.status.idle": "2024-04-03T11:42:55.430373Z",
     "shell.execute_reply": "2024-04-03T11:42:55.429387Z"
    },
    "papermill": {
     "duration": 0.01718,
     "end_time": "2024-04-03T11:42:55.432522",
     "exception": false,
     "start_time": "2024-04-03T11:42:55.415342",
     "status": "completed"
    },
    "tags": []
   },
   "outputs": [],
   "source": [
    "class VotingModel(BaseEstimator, ClassifierMixin):\n",
    "    \"\"\"\n",
    "    複数のモデルを受け取り, それぞれpredictした結果の平均を出力する.\n",
    "    CVで作成したモデルたちにも使えるので便利.\n",
    "    \"\"\"\n",
    "    \n",
    "    def __init__(self, estimators):\n",
    "        super().__init__()\n",
    "        self.estimators = estimators\n",
    "        \n",
    "    def fit(self, X, y=None):\n",
    "        return self\n",
    "    \n",
    "    def predict(self, X):\n",
    "        y_preds = [estimator.predict(X) for estimator in self.estimators]\n",
    "        return np.mean(y_preds, axis=0)\n",
    "    \n",
    "    def predict_proba(self, X):\n",
    "        y_preds = [estimator.predict_proba(X) for estimator in self.estimators]\n",
    "        return np.mean(y_preds, axis=0)"
   ]
  },
  {
   "cell_type": "code",
   "execution_count": 3,
   "id": "5ed70e56",
   "metadata": {
    "execution": {
     "iopub.execute_input": "2024-04-03T11:42:55.447738Z",
     "iopub.status.busy": "2024-04-03T11:42:55.447426Z",
     "iopub.status.idle": "2024-04-03T11:42:55.460745Z",
     "shell.execute_reply": "2024-04-03T11:42:55.459960Z"
    },
    "papermill": {
     "duration": 0.022805,
     "end_time": "2024-04-03T11:42:55.462662",
     "exception": false,
     "start_time": "2024-04-03T11:42:55.439857",
     "status": "completed"
    },
    "tags": []
   },
   "outputs": [],
   "source": [
    "\"\"\"\n",
    "** @staticmethod **\n",
    "インスタンス化する必要がなくなる.\n",
    "df.pipe(Pipeline.method())\n",
    "\"\"\"\n",
    "\n",
    "class Pipeline:\n",
    "    @staticmethod\n",
    "    def set_table_dtypes(df):\n",
    "        \"\"\"\n",
    "        テーブルの型を変える.\n",
    "        \n",
    "        P - Transform DPD (Days past due)\n",
    "        M - Masking categories\n",
    "        A - Transform amount\n",
    "        D - Transform date\n",
    "        T - Unspecified Transform\n",
    "        L - Unspecified Transform\n",
    "        \n",
    "        \"\"\"\n",
    "        for col in df.columns:\n",
    "            if col in [\"case_id\", \"WEEK_NUM\", \"num_group1\", \"num_group2\"]:\n",
    "                df = df.with_columns(pl.col(col).cast(pl.Int32))\n",
    "            elif col in [\"date_decision\"]:\n",
    "                df = df.with_columns(pl.col(col).cast(pl.Date))\n",
    "            elif col[-1] in (\"P\", \"A\"):\n",
    "                df = df.with_columns(pl.col(col).cast(pl.Float64))\n",
    "            elif col[-1] in (\"M\",):\n",
    "                df = df.with_columns(pl.col(col).cast(pl.String))\n",
    "            elif col[-1] in (\"D\",):\n",
    "                df = df.with_columns(pl.col(col).cast(pl.Date))            \n",
    "\n",
    "        return df\n",
    "    \n",
    "    @staticmethod\n",
    "    def handle_dates(df):\n",
    "        \"\"\"\n",
    "        日付型(D)の特徴量を追加\n",
    "        \n",
    "        data_decision : 2019-01-03\n",
    "        \"\"\"\n",
    "        for col in df.columns:\n",
    "            if col[-1] in (\"D\",):\n",
    "                df = df.with_columns(pl.col(col) - pl.col(\"date_decision\"))\n",
    "                df = df.with_columns(pl.col(col).dt.total_days())\n",
    "                df = df.with_columns(pl.col(col).cast(pl.Float32))\n",
    "                \n",
    "        df = df.drop(\"date_decision\", \"MONTH\")\n",
    "\n",
    "        return df\n",
    "    \n",
    "    @staticmethod\n",
    "    def filter_cols(df):\n",
    "        \"\"\"\n",
    "        nullが95%の特徴を削除.\n",
    "        要素が1種類または200種類以上ある特徴を削除.\n",
    "        \"\"\"\n",
    "        for col in df.columns:\n",
    "            if col not in [\"target\", \"case_id\", \"WEEK_NUM\"]:\n",
    "                isnull = df[col].is_null().mean()\n",
    "\n",
    "                if isnull > 0.95:\n",
    "                    df = df.drop(col)\n",
    "\n",
    "        for col in df.columns:\n",
    "            if (col not in [\"target\", \"case_id\", \"WEEK_NUM\"]) & (df[col].dtype == pl.String):\n",
    "                freq = df[col].n_unique()\n",
    "\n",
    "                if (freq == 1) | (freq > 200):\n",
    "                    df = df.drop(col)\n",
    "\n",
    "        return df"
   ]
  },
  {
   "cell_type": "code",
   "execution_count": 4,
   "id": "00625545",
   "metadata": {
    "execution": {
     "iopub.execute_input": "2024-04-03T11:42:55.477300Z",
     "iopub.status.busy": "2024-04-03T11:42:55.477002Z",
     "iopub.status.idle": "2024-04-03T11:42:55.487867Z",
     "shell.execute_reply": "2024-04-03T11:42:55.487139Z"
    },
    "papermill": {
     "duration": 0.020293,
     "end_time": "2024-04-03T11:42:55.489764",
     "exception": false,
     "start_time": "2024-04-03T11:42:55.469471",
     "status": "completed"
    },
    "tags": []
   },
   "outputs": [],
   "source": [
    "class Aggregator:\n",
    "    \"\"\"\n",
    "    グループ分けした後, グループごとの特徴量の最大値を選ぶ.\n",
    "    \n",
    "    depth=1,2のファイルでnum_groupでグループ分けしている.\n",
    "    \"\"\"\n",
    "    @staticmethod\n",
    "    def num_expr(df):\n",
    "        cols = [col for col in df.columns if col[-1] in (\"P\", \"A\")]\n",
    "\n",
    "        expr_max = [pl.max(col).alias(f\"max_{col}\") for col in cols]\n",
    "\n",
    "        return expr_max\n",
    "\n",
    "    @staticmethod\n",
    "    def date_expr(df):\n",
    "        cols = [col for col in df.columns if col[-1] in (\"D\",)]\n",
    "\n",
    "        expr_max = [pl.max(col).alias(f\"max_{col}\") for col in cols]\n",
    "\n",
    "        return expr_max\n",
    "\n",
    "    @staticmethod\n",
    "    def str_expr(df):\n",
    "        cols = [col for col in df.columns if col[-1] in (\"M\",)]\n",
    "        \n",
    "        expr_max = [pl.max(col).alias(f\"max_{col}\") for col in cols]\n",
    "\n",
    "        return expr_max\n",
    "    \n",
    "    @staticmethod\n",
    "    def other_expr(df):\n",
    "        cols = [col for col in df.columns if col[-1] in (\"T\", \"L\")]\n",
    "        \n",
    "        expr_max = [pl.max(col).alias(f\"max_{col}\") for col in cols]\n",
    "\n",
    "        return expr_max\n",
    "    \n",
    "    @staticmethod\n",
    "    def count_expr(df):\n",
    "        cols = [col for col in df.columns if \"num_group\" in col]\n",
    "\n",
    "        expr_max = [pl.max(col).alias(f\"max_{col}\") for col in cols]\n",
    "\n",
    "        return expr_max\n",
    "\n",
    "    @staticmethod\n",
    "    def get_exprs(df):\n",
    "        exprs = Aggregator.num_expr(df) + \\\n",
    "                Aggregator.date_expr(df) + \\\n",
    "                Aggregator.str_expr(df) + \\\n",
    "                Aggregator.other_expr(df) + \\\n",
    "                Aggregator.count_expr(df)\n",
    "        \n",
    "        return exprs"
   ]
  },
  {
   "cell_type": "code",
   "execution_count": 5,
   "id": "b6a50f95",
   "metadata": {
    "execution": {
     "iopub.execute_input": "2024-04-03T11:42:55.504277Z",
     "iopub.status.busy": "2024-04-03T11:42:55.503985Z",
     "iopub.status.idle": "2024-04-03T11:42:55.511410Z",
     "shell.execute_reply": "2024-04-03T11:42:55.510534Z"
    },
    "papermill": {
     "duration": 0.017087,
     "end_time": "2024-04-03T11:42:55.513448",
     "exception": false,
     "start_time": "2024-04-03T11:42:55.496361",
     "status": "completed"
    },
    "tags": []
   },
   "outputs": [],
   "source": [
    "def read_file(path, depth=None):\n",
    "    \"\"\"\n",
    "    ファイルを読み込む\n",
    "    型を変更\n",
    "    depthが1,2ならnum_groupでグループ分けして最大値に変更\n",
    "    \"\"\"\n",
    "    df = pl.read_parquet(path)\n",
    "    df = df.pipe(Pipeline.set_table_dtypes)\n",
    "    \n",
    "    if depth in [1, 2]:\n",
    "        df = df.group_by(\"case_id\").agg(Aggregator.get_exprs(df))\n",
    "    \n",
    "    return df\n",
    "\n",
    "def read_files(regex_path, depth=None):\n",
    "    \"\"\"\n",
    "    ファイルをまとめて読み込む\n",
    "    型を変更\n",
    "    depthが1,2ならnum_groupでグループ分けして最大値に変更\n",
    "    \"\"\"\n",
    "    chunks = []\n",
    "    for path in glob(str(regex_path)):\n",
    "        df = pl.read_parquet(path)\n",
    "        df = df.pipe(Pipeline.set_table_dtypes)\n",
    "        \n",
    "        if depth in [1, 2]:\n",
    "            df = df.group_by(\"case_id\").agg(Aggregator.get_exprs(df))\n",
    "        \n",
    "        chunks.append(df)\n",
    "        \n",
    "    df = pl.concat(chunks, how=\"vertical_relaxed\")\n",
    "    df = df.unique(subset=[\"case_id\"])\n",
    "    \n",
    "    return df"
   ]
  },
  {
   "cell_type": "code",
   "execution_count": 6,
   "id": "abe8bb89",
   "metadata": {
    "execution": {
     "iopub.execute_input": "2024-04-03T11:42:55.527906Z",
     "iopub.status.busy": "2024-04-03T11:42:55.527574Z",
     "iopub.status.idle": "2024-04-03T11:42:55.533580Z",
     "shell.execute_reply": "2024-04-03T11:42:55.532738Z"
    },
    "papermill": {
     "duration": 0.015557,
     "end_time": "2024-04-03T11:42:55.535561",
     "exception": false,
     "start_time": "2024-04-03T11:42:55.520004",
     "status": "completed"
    },
    "tags": []
   },
   "outputs": [],
   "source": [
    "def feature_eng(df_base, depth_0, depth_1, depth_2):\n",
    "    \"\"\"\n",
    "    data_decision : 2019-01-03から月と何曜日かを取得\n",
    "    日付型(D)を編集\n",
    "    \"\"\"\n",
    "    df_base = (\n",
    "        df_base\n",
    "        .with_columns(\n",
    "            month_decision = pl.col(\"date_decision\").dt.month(),\n",
    "            weekday_decision = pl.col(\"date_decision\").dt.weekday(),\n",
    "        )\n",
    "    )\n",
    "        \n",
    "    for i, df in enumerate(depth_0 + depth_1 + depth_2):\n",
    "        df_base = df_base.join(df, how=\"left\", on=\"case_id\", suffix=f\"_{i}\")\n",
    "        \n",
    "    df_base = df_base.pipe(Pipeline.handle_dates)\n",
    "    \n",
    "    return df_base\n"
   ]
  },
  {
   "cell_type": "code",
   "execution_count": 7,
   "id": "bc5b1726",
   "metadata": {
    "execution": {
     "iopub.execute_input": "2024-04-03T11:42:55.550789Z",
     "iopub.status.busy": "2024-04-03T11:42:55.550077Z",
     "iopub.status.idle": "2024-04-03T11:42:55.555284Z",
     "shell.execute_reply": "2024-04-03T11:42:55.554391Z"
    },
    "papermill": {
     "duration": 0.014863,
     "end_time": "2024-04-03T11:42:55.557251",
     "exception": false,
     "start_time": "2024-04-03T11:42:55.542388",
     "status": "completed"
    },
    "tags": []
   },
   "outputs": [],
   "source": [
    "def to_pandas(df_data, cat_cols=None):\n",
    "    df_data = df_data.to_pandas()\n",
    "    \n",
    "    if cat_cols is None:\n",
    "        cat_cols = list(df_data.select_dtypes(\"object\").columns)\n",
    "    \n",
    "    df_data[cat_cols] = df_data[cat_cols].astype(\"category\")\n",
    "    \n",
    "    return df_data, cat_cols"
   ]
  },
  {
   "cell_type": "code",
   "execution_count": 8,
   "id": "1c410a31",
   "metadata": {
    "execution": {
     "iopub.execute_input": "2024-04-03T11:42:55.572978Z",
     "iopub.status.busy": "2024-04-03T11:42:55.572479Z",
     "iopub.status.idle": "2024-04-03T11:42:55.576827Z",
     "shell.execute_reply": "2024-04-03T11:42:55.575902Z"
    },
    "papermill": {
     "duration": 0.015066,
     "end_time": "2024-04-03T11:42:55.579004",
     "exception": false,
     "start_time": "2024-04-03T11:42:55.563938",
     "status": "completed"
    },
    "tags": []
   },
   "outputs": [],
   "source": [
    "ROOT            = Path(\"/kaggle/input/home-credit-credit-risk-model-stability\")\n",
    "TRAIN_DIR       = ROOT / \"parquet_files\" / \"train\"\n",
    "TEST_DIR        = ROOT / \"parquet_files\" / \"test\""
   ]
  },
  {
   "cell_type": "code",
   "execution_count": 9,
   "id": "33cb80c8",
   "metadata": {
    "execution": {
     "iopub.execute_input": "2024-04-03T11:42:55.594497Z",
     "iopub.status.busy": "2024-04-03T11:42:55.594215Z",
     "iopub.status.idle": "2024-04-03T11:45:04.493527Z",
     "shell.execute_reply": "2024-04-03T11:45:04.492450Z"
    },
    "papermill": {
     "duration": 128.909429,
     "end_time": "2024-04-03T11:45:04.496136",
     "exception": false,
     "start_time": "2024-04-03T11:42:55.586707",
     "status": "completed"
    },
    "tags": []
   },
   "outputs": [],
   "source": [
    "data_store = {\n",
    "    \"df_base\": read_file(TRAIN_DIR / \"train_base.parquet\"),\n",
    "    \"depth_0\": [\n",
    "        read_file(TRAIN_DIR / \"train_static_cb_0.parquet\"),\n",
    "        read_files(TRAIN_DIR / \"train_static_0_*.parquet\"),\n",
    "    ],\n",
    "    \"depth_1\": [\n",
    "        read_files(TRAIN_DIR / \"train_applprev_1_*.parquet\", 1),\n",
    "        read_file(TRAIN_DIR / \"train_tax_registry_a_1.parquet\", 1),\n",
    "        read_file(TRAIN_DIR / \"train_tax_registry_b_1.parquet\", 1),\n",
    "        read_file(TRAIN_DIR / \"train_tax_registry_c_1.parquet\", 1),\n",
    "        read_files(TRAIN_DIR / \"train_credit_bureau_a_1_*.parquet\", 1),\n",
    "        read_file(TRAIN_DIR / \"train_credit_bureau_b_1.parquet\", 1),\n",
    "        read_file(TRAIN_DIR / \"train_other_1.parquet\", 1),\n",
    "        read_file(TRAIN_DIR / \"train_person_1.parquet\", 1),\n",
    "        read_file(TRAIN_DIR / \"train_deposit_1.parquet\", 1),\n",
    "        read_file(TRAIN_DIR / \"train_debitcard_1.parquet\", 1),\n",
    "    ],\n",
    "    \"depth_2\": [\n",
    "        read_file(TRAIN_DIR / \"train_credit_bureau_b_2.parquet\", 2),\n",
    "        read_files(TRAIN_DIR / \"train_credit_bureau_a_2_*.parquet\", 2),\n",
    "    ]\n",
    "}"
   ]
  },
  {
   "cell_type": "code",
   "execution_count": 10,
   "id": "8d41efde",
   "metadata": {
    "execution": {
     "iopub.execute_input": "2024-04-03T11:45:04.511574Z",
     "iopub.status.busy": "2024-04-03T11:45:04.511258Z",
     "iopub.status.idle": "2024-04-03T11:45:14.213930Z",
     "shell.execute_reply": "2024-04-03T11:45:14.213006Z"
    },
    "papermill": {
     "duration": 9.712757,
     "end_time": "2024-04-03T11:45:14.216212",
     "exception": false,
     "start_time": "2024-04-03T11:45:04.503455",
     "status": "completed"
    },
    "tags": []
   },
   "outputs": [
    {
     "name": "stdout",
     "output_type": "stream",
     "text": [
      "train data shape:\t (1526659, 472)\n"
     ]
    }
   ],
   "source": [
    "df_train = feature_eng(**data_store)\n",
    "\n",
    "print(\"train data shape:\\t\", df_train.shape)"
   ]
  },
  {
   "cell_type": "code",
   "execution_count": 12,
   "id": "6a608850",
   "metadata": {
    "execution": {
     "iopub.execute_input": "2024-04-03T11:45:28.365578Z",
     "iopub.status.busy": "2024-04-03T11:45:28.365208Z",
     "iopub.status.idle": "2024-04-03T11:45:28.983679Z",
     "shell.execute_reply": "2024-04-03T11:45:28.982642Z"
    },
    "papermill": {
     "duration": 0.992156,
     "end_time": "2024-04-03T11:45:28.986333",
     "exception": false,
     "start_time": "2024-04-03T11:45:27.994177",
     "status": "completed"
    },
    "tags": []
   },
   "outputs": [],
   "source": [
    "data_store = {\n",
    "    \"df_base\": read_file(TEST_DIR / \"test_base.parquet\"),\n",
    "    \"depth_0\": [\n",
    "        read_file(TEST_DIR / \"test_static_cb_0.parquet\"),\n",
    "        read_files(TEST_DIR / \"test_static_0_*.parquet\"),\n",
    "    ],\n",
    "    \"depth_1\": [\n",
    "        read_files(TEST_DIR / \"test_applprev_1_*.parquet\", 1),\n",
    "        read_file(TEST_DIR / \"test_tax_registry_a_1.parquet\", 1),\n",
    "        read_file(TEST_DIR / \"test_tax_registry_b_1.parquet\", 1),\n",
    "        read_file(TEST_DIR / \"test_tax_registry_c_1.parquet\", 1),\n",
    "        read_files(TEST_DIR / \"test_credit_bureau_a_1_*.parquet\", 1),\n",
    "        read_file(TEST_DIR / \"test_credit_bureau_b_1.parquet\", 1),\n",
    "        read_file(TEST_DIR / \"test_other_1.parquet\", 1),\n",
    "        read_file(TEST_DIR / \"test_person_1.parquet\", 1),\n",
    "        read_file(TEST_DIR / \"test_deposit_1.parquet\", 1),\n",
    "        read_file(TEST_DIR / \"test_debitcard_1.parquet\", 1),\n",
    "    ],\n",
    "    \"depth_2\": [\n",
    "        read_file(TEST_DIR / \"test_credit_bureau_b_2.parquet\", 2),\n",
    "        read_files(TEST_DIR / \"test_credit_bureau_a_2_*.parquet\", 2),\n",
    "    ]\n",
    "}"
   ]
  },
  {
   "cell_type": "code",
   "execution_count": 13,
   "id": "0385a751",
   "metadata": {
    "execution": {
     "iopub.execute_input": "2024-04-03T11:45:29.728109Z",
     "iopub.status.busy": "2024-04-03T11:45:29.727732Z",
     "iopub.status.idle": "2024-04-03T11:45:29.769209Z",
     "shell.execute_reply": "2024-04-03T11:45:29.768245Z"
    },
    "papermill": {
     "duration": 0.413442,
     "end_time": "2024-04-03T11:45:29.771250",
     "exception": false,
     "start_time": "2024-04-03T11:45:29.357808",
     "status": "completed"
    },
    "tags": []
   },
   "outputs": [
    {
     "name": "stdout",
     "output_type": "stream",
     "text": [
      "test data shape:\t (10, 471)\n"
     ]
    }
   ],
   "source": [
    "df_test = feature_eng(**data_store)\n",
    "\n",
    "print(\"test data shape:\\t\", df_test.shape)"
   ]
  },
  {
   "cell_type": "code",
   "execution_count": 14,
   "id": "b8a7c6cb",
   "metadata": {
    "execution": {
     "iopub.execute_input": "2024-04-03T11:45:30.530399Z",
     "iopub.status.busy": "2024-04-03T11:45:30.530015Z",
     "iopub.status.idle": "2024-04-03T11:45:33.342750Z",
     "shell.execute_reply": "2024-04-03T11:45:33.341866Z"
    },
    "papermill": {
     "duration": 3.193783,
     "end_time": "2024-04-03T11:45:33.345200",
     "exception": false,
     "start_time": "2024-04-03T11:45:30.151417",
     "status": "completed"
    },
    "tags": []
   },
   "outputs": [
    {
     "name": "stdout",
     "output_type": "stream",
     "text": [
      "train data shape:\t (1526659, 361)\n",
      "test data shape:\t (10, 360)\n"
     ]
    }
   ],
   "source": [
    "df_train = df_train.pipe(Pipeline.filter_cols)\n",
    "df_test = df_test.select([col for col in df_train.columns if col != \"target\"])\n",
    "\n",
    "print(\"train data shape:\\t\", df_train.shape)\n",
    "print(\"test data shape:\\t\", df_test.shape)"
   ]
  },
  {
   "cell_type": "code",
   "execution_count": 15,
   "id": "2a1e5223",
   "metadata": {
    "execution": {
     "iopub.execute_input": "2024-04-03T11:45:34.109635Z",
     "iopub.status.busy": "2024-04-03T11:45:34.109261Z",
     "iopub.status.idle": "2024-04-03T11:45:55.118378Z",
     "shell.execute_reply": "2024-04-03T11:45:55.117532Z"
    },
    "papermill": {
     "duration": 21.399954,
     "end_time": "2024-04-03T11:45:55.120803",
     "exception": false,
     "start_time": "2024-04-03T11:45:33.720849",
     "status": "completed"
    },
    "tags": []
   },
   "outputs": [],
   "source": [
    "df_train, cat_cols = to_pandas(df_train)\n",
    "df_test, cat_cols = to_pandas(df_test, cat_cols)"
   ]
  },
  {
   "cell_type": "code",
   "execution_count": 16,
   "id": "48de3cf9",
   "metadata": {
    "execution": {
     "iopub.execute_input": "2024-04-03T11:45:55.878378Z",
     "iopub.status.busy": "2024-04-03T11:45:55.877530Z",
     "iopub.status.idle": "2024-04-03T11:45:55.986249Z",
     "shell.execute_reply": "2024-04-03T11:45:55.985377Z"
    },
    "papermill": {
     "duration": 0.479663,
     "end_time": "2024-04-03T11:45:55.988198",
     "exception": false,
     "start_time": "2024-04-03T11:45:55.508535",
     "status": "completed"
    },
    "tags": []
   },
   "outputs": [
    {
     "data": {
      "text/plain": [
       "60"
      ]
     },
     "execution_count": 16,
     "metadata": {},
     "output_type": "execute_result"
    }
   ],
   "source": [
    "del data_store\n",
    "\n",
    "gc.collect()"
   ]
  },
  {
   "cell_type": "code",
   "execution_count": null,
   "id": "ed73e267",
   "metadata": {
    "execution": {
     "iopub.execute_input": "2024-04-03T11:45:56.747667Z",
     "iopub.status.busy": "2024-04-03T11:45:56.747299Z",
     "iopub.status.idle": "2024-04-03T12:03:44.383062Z",
     "shell.execute_reply": "2024-04-03T12:03:44.381557Z"
    },
    "papermill": {
     "duration": 1068.020617,
     "end_time": "2024-04-03T12:03:44.385331",
     "exception": false,
     "start_time": "2024-04-03T11:45:56.364714",
     "status": "completed"
    },
    "tags": []
   },
   "outputs": [],
   "source": [
    "X = df_train.drop(columns=[\"target\", \"case_id\", \"WEEK_NUM\"])\n",
    "y = df_train[\"target\"]\n",
    "weeks = df_train[\"WEEK_NUM\"]\n",
    "\n",
    "# WEEK_NUMでGroupにすることで, WEEKに対するリークを防いでいる.\n",
    "cv = StratifiedGroupKFold(n_splits=5, shuffle=False)\n",
    "\n",
    "params = {\n",
    "    \"boosting_type\": \"gbdt\",\n",
    "    \"objective\": \"binary\",\n",
    "    \"metric\": \"auc\",\n",
    "    \"max_depth\": 8,\n",
    "    \"learning_rate\": 0.05,\n",
    "    \"n_estimators\": 1000,\n",
    "    \"colsample_bytree\": 0.8, \n",
    "    \"colsample_bynode\": 0.8,\n",
    "    \"verbose\": -1,\n",
    "    \"random_state\": 42,\n",
    "    \"device\": \"gpu\",\n",
    "}\n",
    "\n",
    "fitted_models = []\n",
    "\n",
    "for idx_train, idx_valid in cv.split(X, y, groups=weeks):\n",
    "    X_train, y_train = X.iloc[idx_train], y.iloc[idx_train]\n",
    "    X_valid, y_valid = X.iloc[idx_valid], y.iloc[idx_valid]\n",
    "\n",
    "    model = lgb.LGBMClassifier(**params)\n",
    "    model.fit(\n",
    "        X_train, y_train,\n",
    "        eval_set=[(X_valid, y_valid)],\n",
    "        callbacks=[lgb.log_evaluation(100), lgb.early_stopping(100)]\n",
    "    )\n",
    "\n",
    "    fitted_models.append(model)\n",
    "\n",
    "model = VotingModel(fitted_models)"
   ]
  },
  {
   "cell_type": "code",
   "execution_count": 18,
   "id": "51c0876c",
   "metadata": {
    "execution": {
     "iopub.execute_input": "2024-04-03T12:03:45.172200Z",
     "iopub.status.busy": "2024-04-03T12:03:45.171379Z",
     "iopub.status.idle": "2024-04-03T12:03:45.467777Z",
     "shell.execute_reply": "2024-04-03T12:03:45.466940Z"
    },
    "papermill": {
     "duration": 0.679309,
     "end_time": "2024-04-03T12:03:45.470379",
     "exception": false,
     "start_time": "2024-04-03T12:03:44.791070",
     "status": "completed"
    },
    "tags": []
   },
   "outputs": [],
   "source": [
    "X_test = df_test.drop(columns=[\"WEEK_NUM\"])\n",
    "X_test = X_test.set_index(\"case_id\")\n",
    "\n",
    "y_pred = pd.Series(model.predict_proba(X_test)[:, 1], index=X_test.index)\n"
   ]
  },
  {
   "cell_type": "code",
   "execution_count": 19,
   "id": "a492f9a4",
   "metadata": {
    "execution": {
     "iopub.execute_input": "2024-04-03T12:03:46.223718Z",
     "iopub.status.busy": "2024-04-03T12:03:46.223313Z",
     "iopub.status.idle": "2024-04-03T12:03:46.252363Z",
     "shell.execute_reply": "2024-04-03T12:03:46.251638Z"
    },
    "papermill": {
     "duration": 0.405874,
     "end_time": "2024-04-03T12:03:46.254484",
     "exception": false,
     "start_time": "2024-04-03T12:03:45.848610",
     "status": "completed"
    },
    "tags": []
   },
   "outputs": [],
   "source": [
    "df_subm = pd.read_csv(ROOT / \"sample_submission.csv\")\n",
    "df_subm = df_subm.set_index(\"case_id\")\n",
    "\n",
    "df_subm[\"score\"] = y_pred"
   ]
  },
  {
   "cell_type": "code",
   "execution_count": null,
   "id": "af4a8e42",
   "metadata": {
    "execution": {
     "iopub.execute_input": "2024-04-03T12:03:46.993186Z",
     "iopub.status.busy": "2024-04-03T12:03:46.992455Z",
     "iopub.status.idle": "2024-04-03T12:03:47.008870Z",
     "shell.execute_reply": "2024-04-03T12:03:47.007907Z"
    },
    "papermill": {
     "duration": 0.384971,
     "end_time": "2024-04-03T12:03:47.011019",
     "exception": false,
     "start_time": "2024-04-03T12:03:46.626048",
     "status": "completed"
    },
    "tags": []
   },
   "outputs": [],
   "source": [
    "print(\"Check null: \", df_subm[\"score\"].isnull().any())\n",
    "\n",
    "df_subm.head()"
   ]
  },
  {
   "cell_type": "code",
   "execution_count": 21,
   "id": "acff3bd5",
   "metadata": {
    "execution": {
     "iopub.execute_input": "2024-04-03T12:03:47.744485Z",
     "iopub.status.busy": "2024-04-03T12:03:47.743418Z",
     "iopub.status.idle": "2024-04-03T12:03:47.752757Z",
     "shell.execute_reply": "2024-04-03T12:03:47.751776Z"
    },
    "papermill": {
     "duration": 0.377694,
     "end_time": "2024-04-03T12:03:47.754989",
     "exception": false,
     "start_time": "2024-04-03T12:03:47.377295",
     "status": "completed"
    },
    "tags": []
   },
   "outputs": [],
   "source": [
    "df_subm.to_csv(\"submission.csv\")\n"
   ]
  }
 ],
 "metadata": {
  "kaggle": {
   "accelerator": "nvidiaTeslaT4",
   "dataSources": [
    {
     "databundleVersionId": 7921029,
     "sourceId": 50160,
     "sourceType": "competition"
    }
   ],
   "dockerImageVersionId": 30673,
   "isGpuEnabled": true,
   "isInternetEnabled": false,
   "language": "python",
   "sourceType": "notebook"
  },
  "kernelspec": {
   "display_name": "Python 3",
   "language": "python",
   "name": "python3"
  },
  "language_info": {
   "codemirror_mode": {
    "name": "ipython",
    "version": 3
   },
   "file_extension": ".py",
   "mimetype": "text/x-python",
   "name": "python",
   "nbconvert_exporter": "python",
   "pygments_lexer": "ipython3",
   "version": "3.10.13"
  },
  "papermill": {
   "default_parameters": {},
   "duration": 1263.068511,
   "end_time": "2024-04-03T12:03:49.148778",
   "environment_variables": {},
   "exception": null,
   "input_path": "__notebook__.ipynb",
   "output_path": "__notebook__.ipynb",
   "parameters": {},
   "start_time": "2024-04-03T11:42:46.080267",
   "version": "2.5.0"
  }
 },
 "nbformat": 4,
 "nbformat_minor": 5
}
